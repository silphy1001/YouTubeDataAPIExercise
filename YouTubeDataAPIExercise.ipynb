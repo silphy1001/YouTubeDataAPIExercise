{
  "nbformat": 4,
  "nbformat_minor": 0,
  "metadata": {
    "colab": {
      "name": "YouTubeDataAPIExercise.ipynb",
      "provenance": [],
      "private_outputs": true,
      "authorship_tag": "ABX9TyPNGWBV+tVkb7VkT6FbvdgQ",
      "include_colab_link": true
    },
    "kernelspec": {
      "name": "python3",
      "display_name": "Python 3"
    }
  },
  "cells": [
    {
      "cell_type": "markdown",
      "metadata": {
        "id": "view-in-github",
        "colab_type": "text"
      },
      "source": [
        "<a href=\"https://colab.research.google.com/github/silphy1001/YouTubeDataAPIExercise/blob/master/YouTubeDataAPIExercise.ipynb\" target=\"_parent\"><img src=\"https://colab.research.google.com/assets/colab-badge.svg\" alt=\"Open In Colab\"/></a>"
      ]
    },
    {
      "cell_type": "code",
      "metadata": {
        "id": "XYe1ziTsowbb",
        "colab_type": "code",
        "colab": {}
      },
      "source": [
        "import urllib.request\n",
        "import urllib.parse\n",
        "import json\n",
        "from collections import OrderedDict\n",
        "import pprint\n",
        "import sqlite3\n",
        "import os\n",
        "from datetime import datetime\n",
        "\n",
        "from google.colab import drive"
      ],
      "execution_count": null,
      "outputs": []
    },
    {
      "cell_type": "code",
      "metadata": {
        "id": "GXn4GAq_br3l",
        "colab_type": "code",
        "colab": {}
      },
      "source": [
        "# Google Drive上にデータベースを作成する\n",
        "drive_path = \"/content/drive/My Drive/ネタ/VTuber統計データ/\"\n",
        "db_name = \"vtuber_stats.db\"\n",
        "db_file = drive_path + db_name\n",
        "DB_EXISTS_FLAG = True\n",
        "\n",
        "if not os.path.exists(drive_path):\n",
        "  # Google Driveがマウントされていない時はマウントする\n",
        "  drive.mount('/content/drive')\n",
        "if not os.path.exists(db_file):\n",
        "  DB_EXISTS_FLAG = False\n",
        "\n",
        "# DBファイルが存在しない時は新規作成し、存在する時はそのまま接続する\n",
        "con = sqlite3.connect(db_file)\n",
        "cur = con.cursor()\n",
        "\n",
        "# DBを新規作成した場合はテーブル定義を行う\n",
        "if not DB_EXISTS_FLAG:\n",
        "  # vtstatsというテーブルを作成\n",
        "  cur.execute(\n",
        "      'CREATE TABLE vtstats(id INTEGER PRIMARY KEY AUTOINCREMENT, \\\n",
        "       chtitle TEXT, chid TEXT, subscribercount INTEGER, viewcount INTEGER, \\\n",
        "       videocount INTEGER, registdate TEXT)' \\\n",
        "  )\n",
        "  con.commit()\n",
        "\n",
        "# テーブルを確認\n",
        "cur.execute('SELECT * FROM vtstats')\n",
        "pprint.pprint(cur.fetchall(), width=50)\n",
        "\n",
        "cur.close()\n",
        "con.close()"
      ],
      "execution_count": null,
      "outputs": []
    },
    {
      "cell_type": "code",
      "metadata": {
        "id": "CYL4Dvix5-L1",
        "colab_type": "code",
        "colab": {}
      },
      "source": [
        "# 例外処理は後で追加する。\n",
        "# 例）\n",
        "## HTTP通信エラー 4xx系、5xx系\n",
        "## YouTube Data API v3 のAPIエラー\n",
        "## ...etc\n",
        "\n",
        "# 定数定義\n",
        "API_KEY = input()\n",
        "BASE_URL = 'https://www.googleapis.com/youtube/v3'\n",
        "HEADERS = {\n",
        "    'Content-Type': 'application/json',\n",
        "}"
      ],
      "execution_count": null,
      "outputs": []
    },
    {
      "cell_type": "code",
      "metadata": {
        "id": "vRfBd7USIyg1",
        "colab_type": "code",
        "colab": {}
      },
      "source": [
        "# データ定義\n",
        "profiles = {\n",
        "            '花京院ちえり': {\n",
        "              'chtitle': '',\n",
        "              'chid': 'UCP9ZgeIJ3Ri9En69R0kJc9Q',\n",
        "              'subscribercount': 0,\n",
        "              'viewcount': 0,\n",
        "              'videocount': 0,\n",
        "              'registdate': '2020-01-01'\n",
        "            },\n",
        "            '八重沢なとり': {\n",
        "              'chtitle': '',\n",
        "              'chid': 'UC1519-d1jzGiL1MPTxEdtSA',\n",
        "              'subscribercount': 0,\n",
        "              'viewcount': 0,\n",
        "              'videocount': 0,\n",
        "              'registdate': '2020-01-01'\n",
        "            },\n",
        "            '神楽すず': {\n",
        "              'chtitle': '',\n",
        "              'chid': 'UCUZ5AlC3rTlM-rA2cj5RP6w',\n",
        "              'subscribercount': 0,\n",
        "              'viewcount': 0,\n",
        "              'videocount': 0,\n",
        "              'registdate': '2020-01-01'\n",
        "            },\n",
        "            'ヤマト イオリ': {\n",
        "              'chtitle': '',\n",
        "              'chid': 'UCyb-cllCkMREr9de-hoiDrg',\n",
        "              'subscribercount': 0,\n",
        "              'viewcount': 0,\n",
        "              'videocount': 0,\n",
        "              'registdate': '2020-01-01'\n",
        "            },\n",
        "           '金剛いろは': {\n",
        "              'chtitle': '',\n",
        "              'chid': 'UCiGcHHHT3kBB1IGOrv7f3qQ',\n",
        "              'subscribercount': 0,\n",
        "              'viewcount': 0,\n",
        "              'videocount': 0,\n",
        "              'registdate': '2020-01-01'\n",
        "            },\n",
        "           'もこ田めめめ': {\n",
        "              'chtitle': '',\n",
        "              'chid': 'UCz6Gi81kE6p5cdW1rT0ixqw',\n",
        "              'subscribercount': 0,\n",
        "              'viewcount': 0,\n",
        "              'videocount': 0,\n",
        "              'registdate': '2020-01-01'\n",
        "            },\n",
        "           'カルロ・ピノ': {\n",
        "              'chtitle': '',\n",
        "              'chid': 'UCMzxQ58QL4NNbWghGymtHvw',\n",
        "              'subscribercount': 0,\n",
        "              'viewcount': 0,\n",
        "              'videocount': 0,\n",
        "              'registdate': '2020-01-01'\n",
        "            },\n",
        "           '月ノ美兎': {\n",
        "              'chtitle': '',\n",
        "              'chid': 'UCD-miitqNY3nyukJ4Fnf4_A',\n",
        "              'subscribercount': 0,\n",
        "              'viewcount': 0,\n",
        "              'videocount': 0,\n",
        "              'registdate': '2020-01-01'\n",
        "            },\n",
        "           '名取さな': {\n",
        "              'chtitle': '',\n",
        "              'chid': 'UCIdEIHpS0TdkqRkHL5OkLtA',\n",
        "              'subscribercount': 0,\n",
        "              'viewcount': 0,\n",
        "              'videocount': 0,\n",
        "              'registdate': '2020-01-01'\n",
        "            },\n",
        "}"
      ],
      "execution_count": null,
      "outputs": []
    },
    {
      "cell_type": "code",
      "metadata": {
        "id": "J1FU4WyGI5Cd",
        "colab_type": "code",
        "colab": {}
      },
      "source": [
        "# 参照 - YouTube Data API > Guides and Tutorials > チャンネルIDへの対応\n",
        "## https://developers.google.com/youtube/v3/guides/working_with_channel_ids?hl=ja\n",
        "\n",
        "# チャンネルIDを使ってチャンネル名を取り出す\n",
        "for name, details in profiles.items():\n",
        "  command = '/channels' \\\n",
        "          + '?key=' + API_KEY \\\n",
        "          + '&part=snippet' \\\n",
        "          + '&id=' + details['chid']\n",
        "  published_url = BASE_URL + command\n",
        "\n",
        "  req = urllib.request.Request(published_url, headers=HEADERS)\n",
        "  with urllib.request.urlopen(req) as res:\n",
        "    body = json.loads(res.read().decode('utf-8'))\n",
        "    chtitle = body['items'][0]['snippet']['localized']['title'] # itemsがリストになっているので0番目を取り出す\n",
        "    print(\"チャンネル名: \" + chtitle)\n",
        "    profiles[name]['chtitle'] = chtitle\n",
        "  print(published_url)"
      ],
      "execution_count": null,
      "outputs": []
    },
    {
      "cell_type": "code",
      "metadata": {
        "id": "-_IP3sPfI-WG",
        "colab_type": "code",
        "colab": {}
      },
      "source": [
        "# チャンネル情報を取得する\n",
        "for k in profiles.keys():\n",
        "  channel_id = profiles[k]['chid']\n",
        "  command = '/channels?key=' + API_KEY \\\n",
        "          + '&part=statistics' \\\n",
        "          + '&id=' + channel_id\n",
        "  published_url = BASE_URL + command\n",
        "  print(published_url)\n",
        "\n",
        "  req = urllib.request.Request(published_url, headers=HEADERS)\n",
        "  with urllib.request.urlopen(req) as res:\n",
        "    body = json.loads(res.read().decode('utf-8'))\n",
        "    profiles[k]['subscribercount'] = int(body['items'][0]['statistics']['subscriberCount'])\n",
        "    profiles[k]['viewcount'] = int(body['items'][0]['statistics']['viewCount'])\n",
        "    profiles[k]['videocount'] = int(body['items'][0]['statistics']['videoCount'])\n",
        "    profiles[k]['registdate'] = datetime.now().isoformat()"
      ],
      "execution_count": null,
      "outputs": []
    },
    {
      "cell_type": "code",
      "metadata": {
        "id": "r5ECA5Fp0pOk",
        "colab_type": "code",
        "colab": {}
      },
      "source": [
        ""
      ],
      "execution_count": null,
      "outputs": []
    }
  ]
}